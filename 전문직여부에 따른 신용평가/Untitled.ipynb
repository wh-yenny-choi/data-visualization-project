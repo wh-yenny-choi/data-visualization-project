{
 "cells": [
  {
   "cell_type": "markdown",
   "id": "ed9189f7-3ef8-4d15-84fd-73fbb4a85615",
   "metadata": {},
   "source": [
    "### Riss 논문 검색데이터파일 csv파일로 저장"
   ]
  },
  {
   "cell_type": "code",
   "execution_count": 1,
   "id": "b11b4348-e52f-4320-bfd8-62510b3a9d5f",
   "metadata": {},
   "outputs": [],
   "source": [
    "from selenium import webdriver as wd\n",
    "from bs4 import BeautifulSoup as bs\n",
    "from selenium.webdriver.common.by import By\n",
    "# 명시적 대기를 위해 \n",
    "from selenium.webdriver.support.ui import WebDriverWait\n",
    "from selenium.webdriver.support import expected_conditions as EC\n",
    "import urllib.request\n",
    "import re\n",
    "import pandas as pd\n",
    "import os\n",
    "import getpass"
   ]
  },
  {
   "cell_type": "code",
   "execution_count": null,
   "id": "5def1004-d5f4-419c-91fd-63c4094b5c0e",
   "metadata": {},
   "outputs": [],
   "source": [
    "def get_url(page):\n",
    "    url_page = "
   ]
  },
  {
   "cell_type": "code",
   "execution_count": null,
   "id": "33c6656c-fb5f-4e40-a380-14a26685cbd5",
   "metadata": {},
   "outputs": [],
   "source": []
  },
  {
   "cell_type": "code",
   "execution_count": null,
   "id": "30ec61c9-3116-4370-b566-c874f4cc8df7",
   "metadata": {},
   "outputs": [],
   "source": []
  },
  {
   "cell_type": "code",
   "execution_count": null,
   "id": "146cee48-bc3e-4070-ae88-79b3107a0a17",
   "metadata": {},
   "outputs": [],
   "source": []
  },
  {
   "cell_type": "code",
   "execution_count": null,
   "id": "54999fa0-5da1-4bcf-8d12-4fad976b171a",
   "metadata": {},
   "outputs": [],
   "source": []
  },
  {
   "cell_type": "code",
   "execution_count": null,
   "id": "2087b16f-2ec8-4e94-8a4a-0d4d0ac12abc",
   "metadata": {},
   "outputs": [],
   "source": []
  },
  {
   "cell_type": "code",
   "execution_count": null,
   "id": "31345134-25ab-421a-b60b-e494221756ed",
   "metadata": {},
   "outputs": [],
   "source": []
  },
  {
   "cell_type": "code",
   "execution_count": null,
   "id": "f7adc591-6bed-422a-a1e9-2a97cba765f4",
   "metadata": {},
   "outputs": [],
   "source": []
  },
  {
   "cell_type": "code",
   "execution_count": null,
   "id": "b04b03e1-7caf-4605-a137-591fe2b45eff",
   "metadata": {},
   "outputs": [],
   "source": []
  },
  {
   "cell_type": "code",
   "execution_count": null,
   "id": "cd9640da-be1f-4c28-8a2a-f7fdf4df8c2f",
   "metadata": {},
   "outputs": [],
   "source": []
  },
  {
   "cell_type": "code",
   "execution_count": null,
   "id": "3badfdc9-47c9-4e12-ab15-c7f79a575da7",
   "metadata": {},
   "outputs": [],
   "source": []
  },
  {
   "cell_type": "code",
   "execution_count": null,
   "id": "11ff4829-8ba4-4632-a758-7e323643ce5d",
   "metadata": {},
   "outputs": [],
   "source": []
  }
 ],
 "metadata": {
  "kernelspec": {
   "display_name": "Python Multi",
   "language": "python",
   "name": "multi"
  },
  "language_info": {
   "codemirror_mode": {
    "name": "ipython",
    "version": 3
   },
   "file_extension": ".py",
   "mimetype": "text/x-python",
   "name": "python",
   "nbconvert_exporter": "python",
   "pygments_lexer": "ipython3",
   "version": "3.7.6"
  }
 },
 "nbformat": 4,
 "nbformat_minor": 5
}
