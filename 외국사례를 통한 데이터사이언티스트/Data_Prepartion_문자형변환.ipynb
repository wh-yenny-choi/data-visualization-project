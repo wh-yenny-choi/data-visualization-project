{
 "cells": [
  {
   "cell_type": "code",
   "execution_count": 1,
   "id": "46a57697-b833-411e-a94b-29e34129c23b",
   "metadata": {
    "colab": {
     "base_uri": "https://localhost:8080/"
    },
    "executionInfo": {
     "elapsed": 1737,
     "status": "ok",
     "timestamp": 1626263323162,
     "user": {
      "displayName": "1쪼니",
      "photoUrl": "",
      "userId": "10266917082264830382"
     },
     "user_tz": -540
    },
    "id": "46a57697-b833-411e-a94b-29e34129c23b",
    "outputId": "ac1b83bd-e92d-450f-f3d3-a86d1d029928"
   },
   "outputs": [
    {
     "name": "stdout",
     "output_type": "stream",
     "text": [
      "Setup Complete\n"
     ]
    }
   ],
   "source": [
    "import pandas as pd\n",
    "import numpy as np\n",
    "import pandas_profiling\n",
    "\n",
    "#Import libs\n",
    "pd.plotting.register_matplotlib_converters()\n",
    "import matplotlib.pyplot as plt\n",
    "import matplotlib as mpl\n",
    "import matplotlib.ticker as mticker\n",
    "%matplotlib inline\n",
    "\n",
    "import seaborn as sns\n",
    "\n",
    "import plotly.express as px\n",
    "import plotly.graph_objects as go\n",
    "\n",
    "print(\"Setup Complete\")"
   ]
  },
  {
   "cell_type": "code",
   "execution_count": null,
   "id": "faeed9fb-06b6-42f8-ab6d-674dd7ee3e72",
   "metadata": {
    "id": "faeed9fb-06b6-42f8-ab6d-674dd7ee3e72",
    "outputId": "67b824b6-996e-4841-fb5b-f08d3a0fb12d"
   },
   "outputs": [
    {
     "name": "stdout",
     "output_type": "stream",
     "text": [
      "Data Loaded\n"
     ]
    }
   ],
   "source": [
    "#Data Load\n",
    "#-------------- Kaggle 2020 ---------------------\n",
    "kaggle2020File = \"2020_kaggle_survey_2020_responses.csv\"\n",
    "kaggle2020 = pd.read_csv(kaggle2020File, low_memory=False)\n",
    "descriptions = kaggle2020.loc[0:1,:]\n",
    "df = kaggle2020.loc[1:,:]\n",
    "\n",
    "print('Data Loaded')\n",
    "pd.set_option('display.max_columns', None)"
   ]
  },
  {
   "cell_type": "code",
   "execution_count": null,
   "id": "b88a5701-0470-49f9-8483-1ea319f9b36d",
   "metadata": {
    "id": "b88a5701-0470-49f9-8483-1ea319f9b36d"
   },
   "outputs": [],
   "source": [
    "figtext_arg = dict(\n",
    "            horizontalalignment='center',\n",
    "            fontsize=12,\n",
    "            wrap=True,\n",
    "            alpha=0.65\n",
    ")"
   ]
  },
  {
   "cell_type": "code",
   "execution_count": null,
   "id": "0387793f-2221-43c2-9c47-89b1840de4ae",
   "metadata": {
    "id": "0387793f-2221-43c2-9c47-89b1840de4ae"
   },
   "outputs": [],
   "source": [
    "columns = list(range(1,20))"
   ]
  },
  {
   "cell_type": "code",
   "execution_count": null,
   "id": "92b2a2ec-c725-49e6-b3bd-4ed7ca8b5e60",
   "metadata": {
    "id": "92b2a2ec-c725-49e6-b3bd-4ed7ca8b5e60"
   },
   "outputs": [],
   "source": [
    "columns += list(range(53,94))\n",
    "columns += [107,108,118,119,243]"
   ]
  },
  {
   "cell_type": "code",
   "execution_count": null,
   "id": "1957d7d1-ae61-43a2-8fed-8cbf61643720",
   "metadata": {
    "id": "1957d7d1-ae61-43a2-8fed-8cbf61643720"
   },
   "outputs": [],
   "source": [
    "# columns"
   ]
  },
  {
   "cell_type": "code",
   "execution_count": null,
   "id": "a5da3ff7-bdb1-4c51-8a68-4d43629728c1",
   "metadata": {
    "id": "a5da3ff7-bdb1-4c51-8a68-4d43629728c1"
   },
   "outputs": [],
   "source": [
    "kaggle2020 = df.iloc[:,columns]"
   ]
  },
  {
   "cell_type": "code",
   "execution_count": null,
   "id": "4fa57fcd-3179-4d03-8eb8-9217746c63e8",
   "metadata": {
    "id": "4fa57fcd-3179-4d03-8eb8-9217746c63e8"
   },
   "outputs": [],
   "source": [
    "# kaggle2020.head()"
   ]
  },
  {
   "cell_type": "code",
   "execution_count": null,
   "id": "a9f2ce6a-2a31-42e6-a69f-73b81e78a496",
   "metadata": {
    "id": "a9f2ce6a-2a31-42e6-a69f-73b81e78a496"
   },
   "outputs": [],
   "source": [
    "# df.columns"
   ]
  },
  {
   "cell_type": "code",
   "execution_count": null,
   "id": "84a0ae5e-2efe-44be-8fe8-1d81a92fe99e",
   "metadata": {
    "id": "84a0ae5e-2efe-44be-8fe8-1d81a92fe99e"
   },
   "outputs": [],
   "source": [
    "## Data preparation 2020\n",
    "\n",
    "#Single choice questions\n",
    "single = ['Q1','Q2','Q3','Q4','Q5','Q6','Q15', 'Q20', 'Q21', 'Q24','Q25','Q38']\n",
    "\n",
    "#Multiple choice questions\n",
    "multi = ['Q7', 'Q14', 'Q16', 'Q17','Q23']\n",
    "\n",
    "selected_columns = single\n",
    "\n",
    "for m in multi:\n",
    "    i = 1\n",
    "    while True:\n",
    "        qPart = (m+\"_Part_\"+str(i))\n",
    "        if qPart not in kaggle2020.columns:\n",
    "            break\n",
    "        selected_columns.append(qPart)\n",
    "        i = i+1\n",
    "    if m+\"_OTHER\" in kaggle2020.columns:\n",
    "        selected_columns.append(m+\"_OTHER\")"
   ]
  },
  {
   "cell_type": "code",
   "execution_count": null,
   "id": "e6224874-f1fe-4aee-9150-7fba95baa9ac",
   "metadata": {
    "id": "e6224874-f1fe-4aee-9150-7fba95baa9ac",
    "outputId": "2436cb37-c611-49fd-90ad-5776ee936418"
   },
   "outputs": [
    {
     "name": "stderr",
     "output_type": "stream",
     "text": [
      "/opt/anaconda3/envs/multi/lib/python3.9/site-packages/pandas/core/series.py:4509: SettingWithCopyWarning: \n",
      "A value is trying to be set on a copy of a slice from a DataFrame\n",
      "\n",
      "See the caveats in the documentation: https://pandas.pydata.org/pandas-docs/stable/user_guide/indexing.html#returning-a-view-versus-a-copy\n",
      "  return super().replace(\n"
     ]
    }
   ],
   "source": [
    "DSjob1 = kaggle2020\n",
    "DSjob1['Q1'].replace({'18-21': 0,'22-24': 1,'25-29': 2,'30-34': 3,'35-39': 4,'40-44': 5,'45-49': 6,'50-54': 7,'55-59': 8,'60-69': 9,'70+': 9}, inplace=True)\n",
    "DSjob1['Q2'].replace({'Man': 0,'Woman': 1,'Nonbinary': 2,'Prefer not to say': 2,'Prefer to self-describe': 2}, inplace=True)\n",
    "# Q3: country\n",
    "DSjob1['Q4'].replace({'Master’s degree': 3,\n",
    " 'Bachelor’s degree':2,\n",
    " 'Doctoral degree':4,\n",
    " 'Some college/university study without earning a bachelor’s degree': 1,\n",
    " 'Professional degree':5,\n",
    " 'I prefer not to answer': 0,\n",
    " 'No formal education past high school': 1}, inplace=True) # 결측치 0에\n",
    "# Q5: current role\n",
    "DSjob1['Q6'].replace({'3-5 years':3,\n",
    " '1-2 years':2,\n",
    " '< 1 years':1,\n",
    " '5-10 years':4,\n",
    " '10-20 years':5,\n",
    " '20+ years':6,\n",
    " 'I have never written code': 0}, inplace=True)\n",
    "DSjob1['Q15'].replace({'Under 1 year': 1,\n",
    " '1-2 years': 2,\n",
    " 'I do not use machine learning methods': 0,\n",
    " '2-3 years': 3,\n",
    " '3-4 years': 4,\n",
    " '5-10 years': 6,\n",
    " '4-5 years': 5,\n",
    " '10-20 years': 7,\n",
    " '20 or more years': 8}, inplace=True)\n",
    "DSjob1['Q20'].replace({'0-49 employees':1,\n",
    " '10,000 or more employees':5,\n",
    " '1000-9,999 employees':4,\n",
    " '50-249 employees':2,\n",
    " '250-999 employees':3,'unknown': 0 }, inplace=True) # 결측치 0(unknown)\n",
    "DSjob1['Q21'].replace({'1-2':2, '0':1, '20+':7, '3-4':3, '5-9':4, '10-14':5, '15-19':6, 'unknown': 0}, inplace=True)# 결측치 0(unknown)\n",
    "DSjob1['Q24'].replace({'$0-999':0,\n",
    " '10,000-14,999':7,\n",
    " '1,000-1,999':1,\n",
    " '100,000-124,999':18,\n",
    " '40,000-49,999':12,\n",
    " '30,000-39,999':11,\n",
    " '50,000-59,999':13,\n",
    " '5,000-7,499':5,\n",
    " '15,000-19,999':8,\n",
    " '60,000-69,999':14,\n",
    " '20,000-24,999':9,\n",
    " '70,000-79,999':15,\n",
    " '7,500-9,999':6,\n",
    " '150,000-199,999':20,\n",
    " '2,000-2,999':2,\n",
    " '125,000-149,999':19,\n",
    " '25,000-29,999':10,\n",
    " '90,000-99,999':17,\n",
    " '4,000-4,999':4,\n",
    " '80,000-89,999':16,\n",
    " '3,000-3,999':3,\n",
    " '200,000-249,999':21,\n",
    " '300,000-500,000':23,\n",
    " '> $500,000':24,\n",
    " '250,000-299,999': 22}, inplace=True) # Q24에 응답하지 않은 row는 삭제(결측치 제거)\n",
    "DSjob1['Q25'].replace({'$0 ($USD)':1,\n",
    " '$1000-$9,999':4,\n",
    " '$100-$999':3,\n",
    " '$1-$99':2,\n",
    " '$10,000-$99,999':5,\n",
    " '$100,000 or more ($USD)':6,\n",
    " 'unknown': 0}, inplace=True) # 결측치 0(unknown)\n",
    "DSjob1['Q38'].replace({'Local development environments (RStudio, JupyterLab, etc.)':3,\n",
    " 'Basic statistical software (Microsoft Excel, Google Sheets, etc.)':0,\n",
    " 'Business intelligence software (Salesforce, Tableau, Spotfire, etc.)':2,\n",
    " 'Advanced statistical software (SPSS, SAS, etc.)':1,\n",
    " 'Other':5,\n",
    " 'Cloud-based data software & APIs (AWS, GCP, Azure, etc.)':4 }, inplace=True) # 결측치 5(other)"
   ]
  },
  {
   "cell_type": "code",
   "execution_count": null,
   "id": "1506d2c9-5f73-43fc-bad3-3e39f0e4616c",
   "metadata": {
    "id": "1506d2c9-5f73-43fc-bad3-3e39f0e4616c"
   },
   "outputs": [],
   "source": [
    "DSjob1['Q3'].replace({'Colombia': 3, 'United States of America': 3, 'Argentina': 3, 'Japan': 0,\n",
    "       'India': 0, 'Brazil': 3, 'China': 0, 'Germany': 2, 'Indonesia': 0, 'Canada': 3,\n",
    "       'Switzerland': 2, 'Other': 5, 'Singapore': 0, 'Russia': 0, 'South Africa': 1,\n",
    "       'Egypt': 1, 'Netherlands': 2, 'Pakistan': 0, 'Nepal': 0, 'South Korea': 0,\n",
    "       'Poland': 2, 'Belarus': 2, 'Tunisia': 1, 'Ukraine': 2, 'Belgium': 2,\n",
    "       'Saudi Arabia': 0, 'Taiwan': 0, 'Nigeria': 1, 'Italy': 2, 'Spain': 2,\n",
    "       'United Arab Emirates': 0, 'Mexico': 3, 'Viet Nam': 0, 'Thailand': 0,\n",
    "       'United Kingdom of Great Britain and Northern Ireland': 2, 'France': 2,\n",
    "       'Ghana': 1, 'Ireland': 2, 'Philippines': 0, 'Morocco': 1, 'Turkey': 0,\n",
    "       'Iran, Islamic Republic of...': 0, 'Peru': 3, 'Romania': 2,\n",
    "       'Republic of Korea': 0, 'Australia': 4, 'Chile': 3, 'Kenya': 1, 'Sweden': 2,\n",
    "       'Bangladesh': 0 , 'Greece':2, 'Malaysia': 0, 'Portugal':2, 'Israel': 0,\n",
    "       'Sri Lanka': 0 }, inplace=True) # 대륙별로 아시아 0, 아프리카 1, 유럽 2, 아메리카 3, 오세아니아 4, 그외 5(UN 분류를 따름)\n",
    "# 주의: 한국은 'South Korea'와 'Republic of Korea' 두개\n",
    "DSjob1['Q5'].replace({'Student':1, 'Data Engineer':10, 'Software Engineer':4, 'Data Scientist':3,\n",
    "       'Data Analyst':5, 'Research Scientist':6, 'Other':0,\n",
    "       'Currently not employed':2, 'Statistician':11,\n",
    "       'Product/Project Manager':9, 'Machine Learning Engineer':7,\n",
    "       'Business Analyst':8, 'DBA/Database Engineer':12 }, inplace=True) # 임의 입력, 결측치는 0(other)\n",
    "kaggle2020 = DSjob1"
   ]
  },
  {
   "cell_type": "code",
   "execution_count": null,
   "id": "5602a448-5ca0-4b32-b3e7-2ea0cdb501d6",
   "metadata": {
    "id": "5602a448-5ca0-4b32-b3e7-2ea0cdb501d6",
    "outputId": "be05acfa-1a3a-428e-91dd-951caf9998ed"
   },
   "outputs": [
    {
     "name": "stdout",
     "output_type": "stream",
     "text": [
      "Kaggle 2020 data loaded\n"
     ]
    }
   ],
   "source": [
    "kaggle2020 = kaggle2020.loc[:,selected_columns]\n",
    "kaggle2020.rename(\n",
    "    columns={\n",
    "        \"Q1\":\"Age\", \n",
    "        \"Q2\":\"Gender\", \n",
    "        \"Q3\":\"Country\", \n",
    "        \"Q4\":\"Education Level\", \n",
    "        \"Q5\":\"Role\", \n",
    "        \"Q6\":\"Programming Experience\", \n",
    "        \"Q15\":\"ML Experience\", \n",
    "        \"Q20\":\"Company Size\", \n",
    "        \"Q21\":\"Company Data Scientists\", \n",
    "        \"Q24\":\"Yearly Compensation\",\n",
    "        \"Q25\":\"Spent Money (5years)\",\n",
    "        \"Q38\":\"Primary Tool\"\n",
    "    }, inplace=True)\n",
    "#kaggle2020 = kaggle2020.loc[(kaggle2020.Role.isin(['Data Scientist','Student']))]\n",
    "print(\"Kaggle 2020 data loaded\")"
   ]
  },
  {
   "cell_type": "markdown",
   "id": "a9fb74a0-f430-48f7-a040-9ef4b51bbe96",
   "metadata": {
    "id": "a9fb74a0-f430-48f7-a040-9ef4b51bbe96"
   },
   "source": [
    "## 원핫 인코딩"
   ]
  },
  {
   "cell_type": "code",
   "execution_count": null,
   "id": "3a95816e-2fc5-4e51-8ad4-aaa36c51b04e",
   "metadata": {
    "id": "3a95816e-2fc5-4e51-8ad4-aaa36c51b04e"
   },
   "outputs": [],
   "source": [
    "pd.set_option('display.max_row', 500)\n",
    "pd.set_option('display.max_columns', 100)\n",
    "# pd.Series(list(kaggle2020.columns))"
   ]
  },
  {
   "cell_type": "code",
   "execution_count": null,
   "id": "90e40d08-5ad2-4e82-9ebb-2e297ceb7bcb",
   "metadata": {
    "id": "90e40d08-5ad2-4e82-9ebb-2e297ceb7bcb"
   },
   "outputs": [],
   "source": [
    "def onehotEncoder(new_col_name, start, end):\n",
    "    encode = pd.get_dummies(kaggle2020.iloc[:,start:end])\n",
    "\n",
    "    kaggle2020[new_col_name] = encode.apply(sum, axis=1)"
   ]
  },
  {
   "cell_type": "code",
   "execution_count": null,
   "id": "2e0f90bf-0407-4a3f-882e-1d704facd01d",
   "metadata": {
    "id": "2e0f90bf-0407-4a3f-882e-1d704facd01d"
   },
   "outputs": [],
   "source": [
    "onehotEncoder('# of Languages', 12, 25)  #Number of available languages\n",
    "onehotEncoder('# of Visual tools', 25, 37)  #Number of available Visualization tools\n",
    "onehotEncoder('# of ML frameworks', 37, 53)  #Number of available ML frameworks\n",
    "onehotEncoder('# of ML algorithms', 53, 65)  #Number of available ML algorithms"
   ]
  },
  {
   "cell_type": "code",
   "execution_count": null,
   "id": "9e6d9bd6-5db8-4090-b567-b1bf1c4fa508",
   "metadata": {
    "id": "9e6d9bd6-5db8-4090-b567-b1bf1c4fa508"
   },
   "outputs": [],
   "source": [
    "drop_columns = list(kaggle2020.columns)[12:65]"
   ]
  },
  {
   "cell_type": "code",
   "execution_count": null,
   "id": "e808b3b2-09f2-4af4-b20e-e4683e3d8d31",
   "metadata": {
    "id": "e808b3b2-09f2-4af4-b20e-e4683e3d8d31"
   },
   "outputs": [],
   "source": [
    "kaggle2020.drop(columns=drop_columns,inplace=True)"
   ]
  },
  {
   "cell_type": "code",
   "execution_count": null,
   "id": "3321cc66-6229-4c35-b727-6cf6b1f0c2dd",
   "metadata": {
    "id": "3321cc66-6229-4c35-b727-6cf6b1f0c2dd",
    "outputId": "7179c27e-11a7-488d-c745-74be5a8612ca"
   },
   "outputs": [
    {
     "data": {
      "text/html": [
       "<div>\n",
       "<style scoped>\n",
       "    .dataframe tbody tr th:only-of-type {\n",
       "        vertical-align: middle;\n",
       "    }\n",
       "\n",
       "    .dataframe tbody tr th {\n",
       "        vertical-align: top;\n",
       "    }\n",
       "\n",
       "    .dataframe thead th {\n",
       "        text-align: right;\n",
       "    }\n",
       "</style>\n",
       "<table border=\"1\" class=\"dataframe\">\n",
       "  <thead>\n",
       "    <tr style=\"text-align: right;\">\n",
       "      <th></th>\n",
       "      <th>Age</th>\n",
       "      <th>Gender</th>\n",
       "      <th>Country</th>\n",
       "      <th>Education Level</th>\n",
       "      <th>Role</th>\n",
       "      <th>Programming Experience</th>\n",
       "      <th>ML Experience</th>\n",
       "      <th>Company Size</th>\n",
       "      <th>Company Data Scientists</th>\n",
       "      <th>Yearly Compensation</th>\n",
       "      <th>Spent Money (5years)</th>\n",
       "      <th>Primary Tool</th>\n",
       "      <th># of Languages</th>\n",
       "      <th># of Visual tools</th>\n",
       "      <th># of ML frameworks</th>\n",
       "      <th># of ML algorithms</th>\n",
       "    </tr>\n",
       "  </thead>\n",
       "  <tbody>\n",
       "    <tr>\n",
       "      <th>1</th>\n",
       "      <td>4</td>\n",
       "      <td>0</td>\n",
       "      <td>3</td>\n",
       "      <td>4.0</td>\n",
       "      <td>1.0</td>\n",
       "      <td>4.0</td>\n",
       "      <td>2.0</td>\n",
       "      <td>NaN</td>\n",
       "      <td>NaN</td>\n",
       "      <td>NaN</td>\n",
       "      <td>NaN</td>\n",
       "      <td>0.0</td>\n",
       "      <td>7</td>\n",
       "      <td>2</td>\n",
       "      <td>3</td>\n",
       "      <td>6</td>\n",
       "    </tr>\n",
       "    <tr>\n",
       "      <th>2</th>\n",
       "      <td>3</td>\n",
       "      <td>0</td>\n",
       "      <td>3</td>\n",
       "      <td>3.0</td>\n",
       "      <td>10.0</td>\n",
       "      <td>4.0</td>\n",
       "      <td>2.0</td>\n",
       "      <td>5.0</td>\n",
       "      <td>7.0</td>\n",
       "      <td>18.0</td>\n",
       "      <td>6.0</td>\n",
       "      <td>2.0</td>\n",
       "      <td>3</td>\n",
       "      <td>4</td>\n",
       "      <td>4</td>\n",
       "      <td>3</td>\n",
       "    </tr>\n",
       "    <tr>\n",
       "      <th>3</th>\n",
       "      <td>4</td>\n",
       "      <td>0</td>\n",
       "      <td>3</td>\n",
       "      <td>2.0</td>\n",
       "      <td>4.0</td>\n",
       "      <td>5.0</td>\n",
       "      <td>0.0</td>\n",
       "      <td>4.0</td>\n",
       "      <td>1.0</td>\n",
       "      <td>8.0</td>\n",
       "      <td>1.0</td>\n",
       "      <td>0.0</td>\n",
       "      <td>3</td>\n",
       "      <td>1</td>\n",
       "      <td>0</td>\n",
       "      <td>0</td>\n",
       "    </tr>\n",
       "    <tr>\n",
       "      <th>4</th>\n",
       "      <td>3</td>\n",
       "      <td>0</td>\n",
       "      <td>3</td>\n",
       "      <td>3.0</td>\n",
       "      <td>3.0</td>\n",
       "      <td>4.0</td>\n",
       "      <td>4.0</td>\n",
       "      <td>3.0</td>\n",
       "      <td>4.0</td>\n",
       "      <td>19.0</td>\n",
       "      <td>5.0</td>\n",
       "      <td>3.0</td>\n",
       "      <td>3</td>\n",
       "      <td>3</td>\n",
       "      <td>4</td>\n",
       "      <td>5</td>\n",
       "    </tr>\n",
       "    <tr>\n",
       "      <th>5</th>\n",
       "      <td>3</td>\n",
       "      <td>0</td>\n",
       "      <td>0</td>\n",
       "      <td>3.0</td>\n",
       "      <td>4.0</td>\n",
       "      <td>3.0</td>\n",
       "      <td>NaN</td>\n",
       "      <td>NaN</td>\n",
       "      <td>NaN</td>\n",
       "      <td>NaN</td>\n",
       "      <td>NaN</td>\n",
       "      <td>NaN</td>\n",
       "      <td>1</td>\n",
       "      <td>0</td>\n",
       "      <td>0</td>\n",
       "      <td>0</td>\n",
       "    </tr>\n",
       "  </tbody>\n",
       "</table>\n",
       "</div>"
      ],
      "text/plain": [
       "   Age  Gender  Country  Education Level  Role  Programming Experience  \\\n",
       "1    4       0        3              4.0   1.0                     4.0   \n",
       "2    3       0        3              3.0  10.0                     4.0   \n",
       "3    4       0        3              2.0   4.0                     5.0   \n",
       "4    3       0        3              3.0   3.0                     4.0   \n",
       "5    3       0        0              3.0   4.0                     3.0   \n",
       "\n",
       "   ML Experience  Company Size  Company Data Scientists  Yearly Compensation  \\\n",
       "1            2.0           NaN                      NaN                  NaN   \n",
       "2            2.0           5.0                      7.0                 18.0   \n",
       "3            0.0           4.0                      1.0                  8.0   \n",
       "4            4.0           3.0                      4.0                 19.0   \n",
       "5            NaN           NaN                      NaN                  NaN   \n",
       "\n",
       "   Spent Money (5years)  Primary Tool  # of Languages  # of Visual tools  \\\n",
       "1                   NaN           0.0               7                  2   \n",
       "2                   6.0           2.0               3                  4   \n",
       "3                   1.0           0.0               3                  1   \n",
       "4                   5.0           3.0               3                  3   \n",
       "5                   NaN           NaN               1                  0   \n",
       "\n",
       "   # of ML frameworks  # of ML algorithms  \n",
       "1                   3                   6  \n",
       "2                   4                   3  \n",
       "3                   0                   0  \n",
       "4                   4                   5  \n",
       "5                   0                   0  "
      ]
     },
     "execution_count": 19,
     "metadata": {
      "tags": []
     },
     "output_type": "execute_result"
    }
   ],
   "source": [
    "kaggle2020.head()"
   ]
  },
  {
   "cell_type": "code",
   "execution_count": null,
   "id": "50753645-b6ad-47c9-959d-8006f10ef7c6",
   "metadata": {
    "id": "50753645-b6ad-47c9-959d-8006f10ef7c6",
    "outputId": "7115319b-3fc1-4dcf-dca3-c0a818e12043"
   },
   "outputs": [
    {
     "name": "stdout",
     "output_type": "stream",
     "text": [
      "Age  :  [4 3 1 2 0 8 7 5 9 6]\n",
      "Gender  :  [0 1 2]\n",
      "Country  :  [3 0 2 5 1 4]\n",
      "Education Level  :  [ 4.  3.  2.  1.  5.  0. nan]\n",
      "Role  :  [ 1. 10.  4.  3.  5.  6.  0.  2. 11.  9.  7. nan  8. 12.]\n",
      "Programming Experience  :  [ 4.  5.  3.  1.  2.  6.  0. nan]\n",
      "ML Experience  :  [ 2.  0.  4. nan  1.  3.  5.  6.  8.  7.]\n",
      "Company Size  :  [nan  5.  4.  3.  1.  2.]\n",
      "Company Data Scientists  :  [nan  7.  1.  4.  2.  3.  5.  6.]\n",
      "Yearly Compensation  :  [nan 18.  8. 19. 15. 11. 17.  1.  0.  7. 20. 14.  4. 24. 23. 12. 10. 16.\n",
      "  6. 13. 22.  5.  2.  9. 21.  3.]\n",
      "Spent Money (5years)  :  [nan  6.  1.  5.  2.  4.  3.]\n",
      "Primary Tool  :  [ 0.  2.  3. nan  4.  1.  5.]\n",
      "# of Languages  :  [ 7  3  1  2  5  4  0  6  8  9 10 12 11]\n",
      "# of Visual tools  :  [ 2  4  1  3  0  5  6 10  7  9  8 11]\n",
      "# of ML frameworks  :  [ 3  4  0  5  1  2  8  6  7  9 14 11 10 15 13]\n",
      "# of ML algorithms  :  [ 6  3  0  5  4  1  2  9  7  8 10 11]\n"
     ]
    }
   ],
   "source": [
    "for i in range(len(kaggle2020.columns)):\n",
    "    print(kaggle2020.columns[i], ' : ', kaggle2020.iloc[:,i].unique())"
   ]
  },
  {
   "cell_type": "code",
   "execution_count": null,
   "id": "33554f0d-e533-4011-a2ae-a884f54989a3",
   "metadata": {
    "id": "33554f0d-e533-4011-a2ae-a884f54989a3",
    "tags": []
   },
   "outputs": [],
   "source": [
    "# kaggle2020.profile_report()"
   ]
  },
  {
   "cell_type": "code",
   "execution_count": null,
   "id": "a8e1cfe6-136c-4bcc-998f-a215c4b3e973",
   "metadata": {
    "id": "a8e1cfe6-136c-4bcc-998f-a215c4b3e973"
   },
   "outputs": [],
   "source": [
    "# kaggle2020.to_csv('Final_Data.csv', index=None)"
   ]
  },
  {
   "cell_type": "code",
   "execution_count": null,
   "id": "4a84eaa0-e397-49e8-b370-a5ec6f6615b9",
   "metadata": {
    "id": "4a84eaa0-e397-49e8-b370-a5ec6f6615b9"
   },
   "outputs": [],
   "source": [
    "# 결측치 제거(필요)"
   ]
  },
  {
   "cell_type": "code",
   "execution_count": null,
   "id": "645be63e-50b7-41fa-8edb-55d9ea3239fe",
   "metadata": {
    "id": "645be63e-50b7-41fa-8edb-55d9ea3239fe"
   },
   "outputs": [],
   "source": []
  },
  {
   "cell_type": "code",
   "execution_count": null,
   "id": "a679dceb-5de1-4dc4-a8a4-0bcec09b3196",
   "metadata": {
    "id": "a679dceb-5de1-4dc4-a8a4-0bcec09b3196"
   },
   "outputs": [],
   "source": []
  },
  {
   "cell_type": "code",
   "execution_count": null,
   "id": "d5fddf8a-15ac-4a7b-bf5f-68128f3877b5",
   "metadata": {
    "id": "d5fddf8a-15ac-4a7b-bf5f-68128f3877b5"
   },
   "outputs": [],
   "source": [
    "# 특징 추출\n",
    "from sklearn.feature_selection import RFE\n",
    "from sklearn.svm import SVR"
   ]
  },
  {
   "cell_type": "code",
   "execution_count": null,
   "id": "f4463a6c-6ddb-40da-a67f-f9f0e3238155",
   "metadata": {
    "id": "f4463a6c-6ddb-40da-a67f-f9f0e3238155",
    "tags": []
   },
   "outputs": [],
   "source": [
    "# 목표변수 입력\n",
    "y = kaggle2020['Yearly Compensation'] # 목표변수를 y에 지정하고\n",
    "X = kaggle2020.drop('Yearly Compensation', axis=1) # X(독립변수)에서는 제거\n",
    "# 특징 추출\n",
    "estimator = SVR(kernel=\"linear\")\n",
    "rfe = RFE(estimator, n_features_to_select=4)"
   ]
  },
  {
   "cell_type": "code",
   "execution_count": null,
   "id": "07e2090e-d327-4872-a585-fc3f9399ba5a",
   "metadata": {
    "id": "07e2090e-d327-4872-a585-fc3f9399ba5a",
    "outputId": "86f2af9c-fa09-4a8c-895e-e8b4bb7562d3",
    "tags": []
   },
   "outputs": [
    {
     "ename": "ValueError",
     "evalue": "Input contains NaN, infinity or a value too large for dtype('float64').",
     "output_type": "error",
     "traceback": [
      "\u001b[0;31m---------------------------------------------------------------------------\u001b[0m",
      "\u001b[0;31mValueError\u001b[0m                                Traceback (most recent call last)",
      "\u001b[0;32m<ipython-input-26-7b519e5c0e77>\u001b[0m in \u001b[0;36m<module>\u001b[0;34m\u001b[0m\n\u001b[0;32m----> 1\u001b[0;31m \u001b[0mrfe\u001b[0m\u001b[0;34m.\u001b[0m\u001b[0mfit\u001b[0m\u001b[0;34m(\u001b[0m\u001b[0mX\u001b[0m\u001b[0;34m,\u001b[0m \u001b[0my\u001b[0m\u001b[0;34m)\u001b[0m\u001b[0;34m\u001b[0m\u001b[0;34m\u001b[0m\u001b[0m\n\u001b[0m",
      "\u001b[0;32m/opt/anaconda3/envs/multi/lib/python3.9/site-packages/sklearn/feature_selection/_rfe.py\u001b[0m in \u001b[0;36mfit\u001b[0;34m(self, X, y)\u001b[0m\n\u001b[1;32m    182\u001b[0m             \u001b[0mThe\u001b[0m \u001b[0mtarget\u001b[0m \u001b[0mvalues\u001b[0m\u001b[0;34m.\u001b[0m\u001b[0;34m\u001b[0m\u001b[0;34m\u001b[0m\u001b[0m\n\u001b[1;32m    183\u001b[0m         \"\"\"\n\u001b[0;32m--> 184\u001b[0;31m         \u001b[0;32mreturn\u001b[0m \u001b[0mself\u001b[0m\u001b[0;34m.\u001b[0m\u001b[0m_fit\u001b[0m\u001b[0;34m(\u001b[0m\u001b[0mX\u001b[0m\u001b[0;34m,\u001b[0m \u001b[0my\u001b[0m\u001b[0;34m)\u001b[0m\u001b[0;34m\u001b[0m\u001b[0;34m\u001b[0m\u001b[0m\n\u001b[0m\u001b[1;32m    185\u001b[0m \u001b[0;34m\u001b[0m\u001b[0m\n\u001b[1;32m    186\u001b[0m     \u001b[0;32mdef\u001b[0m \u001b[0m_fit\u001b[0m\u001b[0;34m(\u001b[0m\u001b[0mself\u001b[0m\u001b[0;34m,\u001b[0m \u001b[0mX\u001b[0m\u001b[0;34m,\u001b[0m \u001b[0my\u001b[0m\u001b[0;34m,\u001b[0m \u001b[0mstep_score\u001b[0m\u001b[0;34m=\u001b[0m\u001b[0;32mNone\u001b[0m\u001b[0;34m)\u001b[0m\u001b[0;34m:\u001b[0m\u001b[0;34m\u001b[0m\u001b[0;34m\u001b[0m\u001b[0m\n",
      "\u001b[0;32m/opt/anaconda3/envs/multi/lib/python3.9/site-packages/sklearn/feature_selection/_rfe.py\u001b[0m in \u001b[0;36m_fit\u001b[0;34m(self, X, y, step_score)\u001b[0m\n\u001b[1;32m    191\u001b[0m \u001b[0;34m\u001b[0m\u001b[0m\n\u001b[1;32m    192\u001b[0m         \u001b[0mtags\u001b[0m \u001b[0;34m=\u001b[0m \u001b[0mself\u001b[0m\u001b[0;34m.\u001b[0m\u001b[0m_get_tags\u001b[0m\u001b[0;34m(\u001b[0m\u001b[0;34m)\u001b[0m\u001b[0;34m\u001b[0m\u001b[0;34m\u001b[0m\u001b[0m\n\u001b[0;32m--> 193\u001b[0;31m         X, y = self._validate_data(\n\u001b[0m\u001b[1;32m    194\u001b[0m             \u001b[0mX\u001b[0m\u001b[0;34m,\u001b[0m \u001b[0my\u001b[0m\u001b[0;34m,\u001b[0m \u001b[0maccept_sparse\u001b[0m\u001b[0;34m=\u001b[0m\u001b[0;34m\"csc\"\u001b[0m\u001b[0;34m,\u001b[0m\u001b[0;34m\u001b[0m\u001b[0;34m\u001b[0m\u001b[0m\n\u001b[1;32m    195\u001b[0m             \u001b[0mensure_min_features\u001b[0m\u001b[0;34m=\u001b[0m\u001b[0;36m2\u001b[0m\u001b[0;34m,\u001b[0m\u001b[0;34m\u001b[0m\u001b[0;34m\u001b[0m\u001b[0m\n",
      "\u001b[0;32m/opt/anaconda3/envs/multi/lib/python3.9/site-packages/sklearn/base.py\u001b[0m in \u001b[0;36m_validate_data\u001b[0;34m(self, X, y, reset, validate_separately, **check_params)\u001b[0m\n\u001b[1;32m    431\u001b[0m                 \u001b[0my\u001b[0m \u001b[0;34m=\u001b[0m \u001b[0mcheck_array\u001b[0m\u001b[0;34m(\u001b[0m\u001b[0my\u001b[0m\u001b[0;34m,\u001b[0m \u001b[0;34m**\u001b[0m\u001b[0mcheck_y_params\u001b[0m\u001b[0;34m)\u001b[0m\u001b[0;34m\u001b[0m\u001b[0;34m\u001b[0m\u001b[0m\n\u001b[1;32m    432\u001b[0m             \u001b[0;32melse\u001b[0m\u001b[0;34m:\u001b[0m\u001b[0;34m\u001b[0m\u001b[0;34m\u001b[0m\u001b[0m\n\u001b[0;32m--> 433\u001b[0;31m                 \u001b[0mX\u001b[0m\u001b[0;34m,\u001b[0m \u001b[0my\u001b[0m \u001b[0;34m=\u001b[0m \u001b[0mcheck_X_y\u001b[0m\u001b[0;34m(\u001b[0m\u001b[0mX\u001b[0m\u001b[0;34m,\u001b[0m \u001b[0my\u001b[0m\u001b[0;34m,\u001b[0m \u001b[0;34m**\u001b[0m\u001b[0mcheck_params\u001b[0m\u001b[0;34m)\u001b[0m\u001b[0;34m\u001b[0m\u001b[0;34m\u001b[0m\u001b[0m\n\u001b[0m\u001b[1;32m    434\u001b[0m             \u001b[0mout\u001b[0m \u001b[0;34m=\u001b[0m \u001b[0mX\u001b[0m\u001b[0;34m,\u001b[0m \u001b[0my\u001b[0m\u001b[0;34m\u001b[0m\u001b[0;34m\u001b[0m\u001b[0m\n\u001b[1;32m    435\u001b[0m \u001b[0;34m\u001b[0m\u001b[0m\n",
      "\u001b[0;32m/opt/anaconda3/envs/multi/lib/python3.9/site-packages/sklearn/utils/validation.py\u001b[0m in \u001b[0;36minner_f\u001b[0;34m(*args, **kwargs)\u001b[0m\n\u001b[1;32m     61\u001b[0m             \u001b[0mextra_args\u001b[0m \u001b[0;34m=\u001b[0m \u001b[0mlen\u001b[0m\u001b[0;34m(\u001b[0m\u001b[0margs\u001b[0m\u001b[0;34m)\u001b[0m \u001b[0;34m-\u001b[0m \u001b[0mlen\u001b[0m\u001b[0;34m(\u001b[0m\u001b[0mall_args\u001b[0m\u001b[0;34m)\u001b[0m\u001b[0;34m\u001b[0m\u001b[0;34m\u001b[0m\u001b[0m\n\u001b[1;32m     62\u001b[0m             \u001b[0;32mif\u001b[0m \u001b[0mextra_args\u001b[0m \u001b[0;34m<=\u001b[0m \u001b[0;36m0\u001b[0m\u001b[0;34m:\u001b[0m\u001b[0;34m\u001b[0m\u001b[0;34m\u001b[0m\u001b[0m\n\u001b[0;32m---> 63\u001b[0;31m                 \u001b[0;32mreturn\u001b[0m \u001b[0mf\u001b[0m\u001b[0;34m(\u001b[0m\u001b[0;34m*\u001b[0m\u001b[0margs\u001b[0m\u001b[0;34m,\u001b[0m \u001b[0;34m**\u001b[0m\u001b[0mkwargs\u001b[0m\u001b[0;34m)\u001b[0m\u001b[0;34m\u001b[0m\u001b[0;34m\u001b[0m\u001b[0m\n\u001b[0m\u001b[1;32m     64\u001b[0m \u001b[0;34m\u001b[0m\u001b[0m\n\u001b[1;32m     65\u001b[0m             \u001b[0;31m# extra_args > 0\u001b[0m\u001b[0;34m\u001b[0m\u001b[0;34m\u001b[0m\u001b[0;34m\u001b[0m\u001b[0m\n",
      "\u001b[0;32m/opt/anaconda3/envs/multi/lib/python3.9/site-packages/sklearn/utils/validation.py\u001b[0m in \u001b[0;36mcheck_X_y\u001b[0;34m(X, y, accept_sparse, accept_large_sparse, dtype, order, copy, force_all_finite, ensure_2d, allow_nd, multi_output, ensure_min_samples, ensure_min_features, y_numeric, estimator)\u001b[0m\n\u001b[1;32m    869\u001b[0m         \u001b[0;32mraise\u001b[0m \u001b[0mValueError\u001b[0m\u001b[0;34m(\u001b[0m\u001b[0;34m\"y cannot be None\"\u001b[0m\u001b[0;34m)\u001b[0m\u001b[0;34m\u001b[0m\u001b[0;34m\u001b[0m\u001b[0m\n\u001b[1;32m    870\u001b[0m \u001b[0;34m\u001b[0m\u001b[0m\n\u001b[0;32m--> 871\u001b[0;31m     X = check_array(X, accept_sparse=accept_sparse,\n\u001b[0m\u001b[1;32m    872\u001b[0m                     \u001b[0maccept_large_sparse\u001b[0m\u001b[0;34m=\u001b[0m\u001b[0maccept_large_sparse\u001b[0m\u001b[0;34m,\u001b[0m\u001b[0;34m\u001b[0m\u001b[0;34m\u001b[0m\u001b[0m\n\u001b[1;32m    873\u001b[0m                     \u001b[0mdtype\u001b[0m\u001b[0;34m=\u001b[0m\u001b[0mdtype\u001b[0m\u001b[0;34m,\u001b[0m \u001b[0morder\u001b[0m\u001b[0;34m=\u001b[0m\u001b[0morder\u001b[0m\u001b[0;34m,\u001b[0m \u001b[0mcopy\u001b[0m\u001b[0;34m=\u001b[0m\u001b[0mcopy\u001b[0m\u001b[0;34m,\u001b[0m\u001b[0;34m\u001b[0m\u001b[0;34m\u001b[0m\u001b[0m\n",
      "\u001b[0;32m/opt/anaconda3/envs/multi/lib/python3.9/site-packages/sklearn/utils/validation.py\u001b[0m in \u001b[0;36minner_f\u001b[0;34m(*args, **kwargs)\u001b[0m\n\u001b[1;32m     61\u001b[0m             \u001b[0mextra_args\u001b[0m \u001b[0;34m=\u001b[0m \u001b[0mlen\u001b[0m\u001b[0;34m(\u001b[0m\u001b[0margs\u001b[0m\u001b[0;34m)\u001b[0m \u001b[0;34m-\u001b[0m \u001b[0mlen\u001b[0m\u001b[0;34m(\u001b[0m\u001b[0mall_args\u001b[0m\u001b[0;34m)\u001b[0m\u001b[0;34m\u001b[0m\u001b[0;34m\u001b[0m\u001b[0m\n\u001b[1;32m     62\u001b[0m             \u001b[0;32mif\u001b[0m \u001b[0mextra_args\u001b[0m \u001b[0;34m<=\u001b[0m \u001b[0;36m0\u001b[0m\u001b[0;34m:\u001b[0m\u001b[0;34m\u001b[0m\u001b[0;34m\u001b[0m\u001b[0m\n\u001b[0;32m---> 63\u001b[0;31m                 \u001b[0;32mreturn\u001b[0m \u001b[0mf\u001b[0m\u001b[0;34m(\u001b[0m\u001b[0;34m*\u001b[0m\u001b[0margs\u001b[0m\u001b[0;34m,\u001b[0m \u001b[0;34m**\u001b[0m\u001b[0mkwargs\u001b[0m\u001b[0;34m)\u001b[0m\u001b[0;34m\u001b[0m\u001b[0;34m\u001b[0m\u001b[0m\n\u001b[0m\u001b[1;32m     64\u001b[0m \u001b[0;34m\u001b[0m\u001b[0m\n\u001b[1;32m     65\u001b[0m             \u001b[0;31m# extra_args > 0\u001b[0m\u001b[0;34m\u001b[0m\u001b[0;34m\u001b[0m\u001b[0;34m\u001b[0m\u001b[0m\n",
      "\u001b[0;32m/opt/anaconda3/envs/multi/lib/python3.9/site-packages/sklearn/utils/validation.py\u001b[0m in \u001b[0;36mcheck_array\u001b[0;34m(array, accept_sparse, accept_large_sparse, dtype, order, copy, force_all_finite, ensure_2d, allow_nd, ensure_min_samples, ensure_min_features, estimator)\u001b[0m\n\u001b[1;32m    718\u001b[0m \u001b[0;34m\u001b[0m\u001b[0m\n\u001b[1;32m    719\u001b[0m         \u001b[0;32mif\u001b[0m \u001b[0mforce_all_finite\u001b[0m\u001b[0;34m:\u001b[0m\u001b[0;34m\u001b[0m\u001b[0;34m\u001b[0m\u001b[0m\n\u001b[0;32m--> 720\u001b[0;31m             _assert_all_finite(array,\n\u001b[0m\u001b[1;32m    721\u001b[0m                                allow_nan=force_all_finite == 'allow-nan')\n\u001b[1;32m    722\u001b[0m \u001b[0;34m\u001b[0m\u001b[0m\n",
      "\u001b[0;32m/opt/anaconda3/envs/multi/lib/python3.9/site-packages/sklearn/utils/validation.py\u001b[0m in \u001b[0;36m_assert_all_finite\u001b[0;34m(X, allow_nan, msg_dtype)\u001b[0m\n\u001b[1;32m    101\u001b[0m                 not allow_nan and not np.isfinite(X).all()):\n\u001b[1;32m    102\u001b[0m             \u001b[0mtype_err\u001b[0m \u001b[0;34m=\u001b[0m \u001b[0;34m'infinity'\u001b[0m \u001b[0;32mif\u001b[0m \u001b[0mallow_nan\u001b[0m \u001b[0;32melse\u001b[0m \u001b[0;34m'NaN, infinity'\u001b[0m\u001b[0;34m\u001b[0m\u001b[0;34m\u001b[0m\u001b[0m\n\u001b[0;32m--> 103\u001b[0;31m             raise ValueError(\n\u001b[0m\u001b[1;32m    104\u001b[0m                     \u001b[0mmsg_err\u001b[0m\u001b[0;34m.\u001b[0m\u001b[0mformat\u001b[0m\u001b[0;34m\u001b[0m\u001b[0;34m\u001b[0m\u001b[0m\n\u001b[1;32m    105\u001b[0m                     (type_err,\n",
      "\u001b[0;31mValueError\u001b[0m: Input contains NaN, infinity or a value too large for dtype('float64')."
     ]
    }
   ],
   "source": [
    "rfe.fit(X, y)"
   ]
  },
  {
   "cell_type": "code",
   "execution_count": null,
   "id": "c3053432-6419-45d0-a8c3-ac44bf63fb95",
   "metadata": {
    "id": "c3053432-6419-45d0-a8c3-ac44bf63fb95"
   },
   "outputs": [],
   "source": [
    "for i in range(X.shape[1]):\n",
    "    print('Column: %d, Rank: %d, Selected=%s' % (i, rfe.ranking_[i], rfe.support_[i]))"
   ]
  },
  {
   "cell_type": "code",
   "execution_count": null,
   "id": "327dbb48-4ed4-4b3a-80d9-4fc05fed2de2",
   "metadata": {
    "id": "327dbb48-4ed4-4b3a-80d9-4fc05fed2de2"
   },
   "outputs": [],
   "source": [
    "kaggle2020_RFE = kaggle2020.copy()\n",
    "for i in range(X.shape[1]):\n",
    "    if rfe.support_[i] == False:\n",
    "        if i < n:\n",
    "            k = i\n",
    "        else:\n",
    "            k = i+1\n",
    "        kaggle2020_RFE.drop(kaggle2020.columns[[k]], axis=1,\n",
    "                      inplace=True)\n",
    "kaggle2020_RFE.head()"
   ]
  },
  {
   "cell_type": "code",
   "execution_count": null,
   "id": "fddadca6-a7fd-4db2-9dd5-8f20971f9636",
   "metadata": {
    "id": "fddadca6-a7fd-4db2-9dd5-8f20971f9636"
   },
   "outputs": [],
   "source": [
    "kaggle2020.profile_report()"
   ]
  },
  {
   "cell_type": "code",
   "execution_count": null,
   "id": "d595ed46-6413-4aca-9213-6b31646a3157",
   "metadata": {
    "id": "d595ed46-6413-4aca-9213-6b31646a3157"
   },
   "outputs": [],
   "source": []
  },
  {
   "cell_type": "code",
   "execution_count": null,
   "id": "484b29bf-ce83-4927-ab9f-e6348e478826",
   "metadata": {
    "id": "484b29bf-ce83-4927-ab9f-e6348e478826"
   },
   "outputs": [],
   "source": []
  }
 ],
 "metadata": {
  "colab": {
   "name": "Data_Prepartion_문자형변환.ipynb",
   "provenance": []
  },
  "kernelspec": {
   "display_name": "Python Multi",
   "language": "python",
   "name": "multi"
  },
  "language_info": {
   "codemirror_mode": {
    "name": "ipython",
    "version": 3
   },
   "file_extension": ".py",
   "mimetype": "text/x-python",
   "name": "python",
   "nbconvert_exporter": "python",
   "pygments_lexer": "ipython3",
   "version": "3.7.6"
  }
 },
 "nbformat": 4,
 "nbformat_minor": 5
}
