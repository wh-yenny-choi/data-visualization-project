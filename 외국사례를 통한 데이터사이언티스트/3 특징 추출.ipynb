{
 "cells": [
  {
   "cell_type": "markdown",
   "id": "f439c90a-0ac0-4426-a40a-0446e3968e06",
   "metadata": {},
   "source": [
    "## 특징 추출"
   ]
  },
  {
   "cell_type": "markdown",
   "id": "0058047c-6e06-4bef-8c43-5134a8ee2b84",
   "metadata": {},
   "source": [
    "scikit-learn 라이브러리 RFE구현 제공"
   ]
  },
  {
   "cell_type": "code",
   "execution_count": null,
   "id": "bff30fa4-399d-4ba6-bff0-95ba3bb128a6",
   "metadata": {},
   "outputs": [],
   "source": [
    "from pandas import read_csv\n",
    "from sklearn.model_selection import train_test_split\n",
    "from sklearn.preprocessing import LabelEncoder\n",
    "from sklearn.feature_selection import SelectKBest\n",
    "from sklearn.preprocessing import OrdinalEncoder\n",
    "from sklearn.feature_selection import chi2\n",
    "from matplotlib import pyplot"
   ]
  },
  {
   "cell_type": "markdown",
   "id": "4a1d914c-ff24-4029-ace4-1b03f01cc162",
   "metadata": {},
   "source": [
    "### Classification Feature Selection:\n",
    "(Numerical Input, Categorical Output)"
   ]
  },
  {
   "cell_type": "code",
   "execution_count": null,
   "id": "e7884d01-5644-458b-91ef-6d341557539b",
   "metadata": {},
   "outputs": [],
   "source": [
    "# ANOVA feature selection for numeric input and categorical output\n",
    "from sklearn.datasets import make_classification\n",
    "from sklearn.feature_selection import SelectKBest\n",
    "from sklearn.feature_selection import f_classif"
   ]
  },
  {
   "cell_type": "markdown",
   "id": "3c2b84f5-a250-4f6c-a8af-b862797f3680",
   "metadata": {},
   "source": [
    "### Regression Feature Selection:\n",
    "(Numerical Input, Numerical Output)"
   ]
  },
  {
   "cell_type": "code",
   "execution_count": 1,
   "id": "695afa6b-35d8-43bd-8e01-0ce312a67f3a",
   "metadata": {},
   "outputs": [],
   "source": [
    "# pearson's correlation feature selection for numeric input and numeric output\n",
    "from sklearn.datasets import make_regression\n",
    "from sklearn.feature_selection import SelectKBest\n",
    "from sklearn.feature_selection import f_regression"
   ]
  },
  {
   "cell_type": "markdown",
   "id": "2fa17683-c66d-4ff3-879f-c918107592c3",
   "metadata": {},
   "source": [
    "### Recursive Feature Elimination (RFE)"
   ]
  },
  {
   "cell_type": "code",
   "execution_count": null,
   "id": "cb6ded29-8a75-4395-a1b2-22f2598c3920",
   "metadata": {},
   "outputs": [],
   "source": [
    "# report which features were selected by RFE\n",
    "#from sklearn.tree import DecisionTreeClassifier  변수가 0 or 1일때 사용\n",
    "from sklearn.datasets import make_classification\n",
    "from sklearn.feature_selection import RFE\n",
    "from sklearn.tree import DecisionTreeClassifier"
   ]
  },
  {
   "cell_type": "code",
   "execution_count": 2,
   "id": "b70fe028-e737-43d5-87cc-f72bcd8827cf",
   "metadata": {},
   "outputs": [],
   "source": [
    "from sklearn.svm import SVR"
   ]
  },
  {
   "cell_type": "code",
   "execution_count": null,
   "id": "b52a1722-bccb-4432-be59-748fbc4a86f4",
   "metadata": {},
   "outputs": [],
   "source": []
  }
 ],
 "metadata": {
  "kernelspec": {
   "display_name": "Python Multi",
   "language": "python",
   "name": "multi"
  },
  "language_info": {
   "codemirror_mode": {
    "name": "ipython",
    "version": 3
   },
   "file_extension": ".py",
   "mimetype": "text/x-python",
   "name": "python",
   "nbconvert_exporter": "python",
   "pygments_lexer": "ipython3",
   "version": "3.7.6"
  }
 },
 "nbformat": 4,
 "nbformat_minor": 5
}
