{
 "cells": [
  {
   "cell_type": "code",
   "execution_count": null,
   "id": "4226f708-ed95-4172-aa24-1cac6e0945a3",
   "metadata": {},
   "outputs": [],
   "source": []
  }
 ],
 "metadata": {
  "kernelspec": {
   "display_name": "Python Multi",
   "language": "python",
   "name": "multi"
  },
  "language_info": {
   "name": ""
  }
 },
 "nbformat": 4,
 "nbformat_minor": 5
}
