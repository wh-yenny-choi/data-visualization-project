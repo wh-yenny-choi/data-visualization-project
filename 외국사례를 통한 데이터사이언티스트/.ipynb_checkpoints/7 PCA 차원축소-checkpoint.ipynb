{
 "cells": [
  {
   "cell_type": "markdown",
   "id": "cf170709-4a66-42d7-82ae-1ef0ba2315f2",
   "metadata": {},
   "source": [
    "## 차원 축소"
   ]
  },
  {
   "cell_type": "markdown",
   "id": "23b90e34-4320-410e-9751-d4eef6aed58a",
   "metadata": {},
   "source": [
    "데이터 세트의 입력변수를 줄이는 방법. \n",
    "기계학습에서 가장 자주 사용되는 차원 축소의 방법으로는 PCA가 있다."
   ]
  },
  {
   "cell_type": "code",
   "execution_count": null,
   "id": "62fa0e41-d397-4c8d-847d-762ace100c79",
   "metadata": {},
   "outputs": [],
   "source": [
    "# example of pca for dimensionality reduction\n",
    "from sklearn.datasets import make_classification\n",
    "from sklearn.decomposition import PCA"
   ]
  }
 ],
 "metadata": {
  "kernelspec": {
   "display_name": "Python Multi",
   "language": "python",
   "name": "multi"
  },
  "language_info": {
   "codemirror_mode": {
    "name": "ipython",
    "version": 3
   },
   "file_extension": ".py",
   "mimetype": "text/x-python",
   "name": "python",
   "nbconvert_exporter": "python",
   "pygments_lexer": "ipython3",
   "version": "3.7.6"
  }
 },
 "nbformat": 4,
 "nbformat_minor": 5
}
