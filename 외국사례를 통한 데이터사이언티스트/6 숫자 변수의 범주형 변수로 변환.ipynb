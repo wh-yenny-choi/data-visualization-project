{
 "cells": [
  {
   "cell_type": "markdown",
   "id": "c8b84a84-ee30-4e8f-86e0-499e70a11f99",
   "metadata": {},
   "source": [
    "## 숫자 변수의 범주형 변수로 변환"
   ]
  },
  {
   "cell_type": "markdown",
   "id": "2e10982f-fbf9-41ec-9df5-dc1a574c1b49",
   "metadata": {},
   "source": [
    "KBinsDiscretizer 클래스 통해 scikit-learn 라이브러리에서 사용"
   ]
  },
  {
   "cell_type": "code",
   "execution_count": null,
   "id": "241a289a-9795-4bc4-9b33-76d941dd3a4b",
   "metadata": {},
   "outputs": [],
   "source": [
    "# discretize numeric input variables\n",
    "from sklearn.datasets import make_classification\n",
    "from sklearn.preprocessing import KBinsDiscretizer\n",
    "import pandas as pd"
   ]
  }
 ],
 "metadata": {
  "kernelspec": {
   "display_name": "Python Multi",
   "language": "python",
   "name": "multi"
  },
  "language_info": {
   "codemirror_mode": {
    "name": "ipython",
    "version": 3
   },
   "file_extension": ".py",
   "mimetype": "text/x-python",
   "name": "python",
   "nbconvert_exporter": "python",
   "pygments_lexer": "ipython3",
   "version": "3.7.6"
  }
 },
 "nbformat": 4,
 "nbformat_minor": 5
}
